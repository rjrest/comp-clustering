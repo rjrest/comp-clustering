{
 "metadata": {
  "name": ""
 },
 "nbformat": 3,
 "nbformat_minor": 0,
 "worksheets": [
  {
   "cells": [
    {
     "cell_type": "markdown",
     "metadata": {},
     "source": [
      "###Outline of future code"
     ]
    },
    {
     "cell_type": "code",
     "collapsed": false,
     "input": [
      "# The complete project should contain a series of scripts that start from these inputs:\n",
      "#     * csv from internal SQL query results  (confidential - can't put on Github)\n",
      "# \n",
      "# A. And produces a series of outputs:\n",
      "#   * clean/coded csv's (on Github)\n",
      "#   * Feature engineering  (20-45 derived measurements)\n",
      "#     * output: measurement csvs to ./data/cleaned/  (ok on Github)\n",
      "#     * plot:   histograms to ./data/vis/  (ok on Github)\n",
      "#   * Feature normalization:\n",
      "#     * output:  normalized measurement csv's (on Github)\n",
      "#\n",
      "# B. Assembles outputs:\n",
      "#   * JOIN ON competitionId to each normalized measurement table\n",
      "#\n",
      "# C. Unsupervised analysis:\n",
      "#   * (?) Performs PCA analysis\n",
      "#   * KMeans clustering\n",
      "#\n",
      "# D. Visualizer\n",
      "#\n",
      "# E. Analytical write-up  (confidential - present to instructors & Kaggle team)\n",
      "\n",
      "\n",
      "# Part A\n",
      "\n",
      "# Data_cleaner:\n",
      "#    1. ingest data/raw/Competitions csv\n",
      "#       1. rename columns to X1, X2, X3 etc.\n",
      "#       2. drop unneeded columns\n",
      "#    2. OUTPUT:  data/clean/competitions_clean.csv\n",
      "#    3. Munge data (missing values)\n",
      "#    4. Repeat 1-3 for all other tables\n",
      "\n"
     ],
     "language": "python",
     "metadata": {},
     "outputs": [],
     "prompt_number": 1
    },
    {
     "cell_type": "markdown",
     "metadata": {},
     "source": [
      "### Class data_cleaner"
     ]
    },
    {
     "cell_type": "code",
     "collapsed": false,
     "input": [
      "# Author: RJ Ramey <rj.github@garimeme.com>\n",
      "# License: (c) 2014 by RJ Ramey. All rights reserved. No license is given at this time."
     ],
     "language": "python",
     "metadata": {},
     "outputs": [],
     "prompt_number": 2
    },
    {
     "cell_type": "code",
     "collapsed": false,
     "input": [
      "# Setup and Initialization\n",
      "import pandas as pd\n",
      "import numpy as np\n",
      "import matplotlib.pyplot as plt\n"
     ],
     "language": "python",
     "metadata": {},
     "outputs": [],
     "prompt_number": 3
    },
    {
     "cell_type": "code",
     "collapsed": false,
     "input": [
      "# IO / data load\n",
      "\n",
      "## Expects: confidential files in /data/raw/\n",
      "##  Query_results1784.csv\n",
      "##  ...\n",
      "\n",
      "# Load Competitions table\n",
      "try:\n",
      "    df_Competitions = pd.read_csv(\"data/raw/Query_results1784.csv\",header=0,index_col=0)\n",
      "except IOError:\n",
      "    print \"Missing input: data/raw/Query_results1784.csv\"\n",
      "\n",
      "# Code the feature names for storage on Github\n",
      "coded_names = [ 'X' + str(i) for i in range (1, len(df_Competitions.columns) + 1)]\n",
      "coded_legend = zip(coded_names, df_Competitions.columns)\n",
      "df_Competitions.columns = coded_names\n"
     ],
     "language": "python",
     "metadata": {},
     "outputs": [],
     "prompt_number": 165
    },
    {
     "cell_type": "code",
     "collapsed": false,
     "input": [
      "# Data Munging\n",
      "# Create JOIN table of foreign keys\n",
      "df_ForeignKeys = df_Competitions[['X12','X13','X16','X17','X18','X22','X23']]\n",
      "df_ForeignKeys.to_csv('./data/cleaned/foreignkeys.csv') "
     ],
     "language": "python",
     "metadata": {},
     "outputs": [],
     "prompt_number": 147
    },
    {
     "cell_type": "code",
     "collapsed": false,
     "input": [
      "# Convert X23 to bool, {null: 0, notnull: 1}\n",
      "df_Competitions['Is_X23'] = df_Competitions.X23.map(lambda x: x/x)       # evaluates to 1\n",
      "df_Competitions.loc[ df_Competitions.Is_X23.isnull(), 'Is_X23' ] = 0   # sets remaining 0\n",
      "\n",
      "# Convert boolean columns to 1/0\n",
      "for cn in list(df_Competitions.columns[df_Competitions.dtypes.map(lambda x: x=='bool')]):\n",
      "    df_Competitions[cn] = df_Competitions[cn].astype(int)\n",
      "\n",
      "# Convert text dates to UTC datetimes\n",
      "df_Competitions['X5'] = pd.to_datetime(df_Competitions.X5, utc=True)   \n",
      "df_Competitions['X6'] = pd.to_datetime(df_Competitions.X6, utc=True)   \n",
      "df_Competitions['X7'] = pd.to_datetime(df_Competitions.X7, utc=True)   \n",
      "df_Competitions['X8'] = pd.to_datetime(df_Competitions.X8, utc=True)   \n",
      "df_Competitions['X19'] = pd.to_datetime(df_Competitions.X19, utc=True)    \n"
     ],
     "language": "python",
     "metadata": {},
     "outputs": [],
     "prompt_number": 166
    },
    {
     "cell_type": "code",
     "collapsed": false,
     "input": [
      "# Additional feature engineering\n",
      "# do date arithmetic, converts to ns, calculate back to days\n",
      "df_Competitions['PrepInstructor_days'] = pd.to_timedelta( \n",
      "                                              (df_Competitions.X6 - df_Competitions.X5),\n",
      "                                              unit='D').astype(np.timedelta64) / 86400 / 1000000000\n",
      "\n",
      "df_Competitions['Staging_days'] = pd.to_timedelta( \n",
      "                                              (df_Competitions.X7 - df_Competitions.X5),\n",
      "                                              unit='D').astype(np.timedelta64) / 86400 / 1000000000\n",
      "\n",
      "df_Competitions['Duration_days'] = pd.to_timedelta( \n",
      "                                              (df_Competitions.X8 - df_Competitions.X7),\n",
      "                                              unit='D').astype(np.timedelta64) / 86400 / 1000000000\n",
      "\n",
      "df_Competitions['Postprocess_days'] = pd.to_timedelta( \n",
      "                                              (df_Competitions.X19 - df_Competitions.X8),\n",
      "                                              unit='D').astype(np.timedelta64) / 86400 / 1000000000"
     ],
     "language": "python",
     "metadata": {},
     "outputs": [],
     "prompt_number": 167
    },
    {
     "cell_type": "code",
     "collapsed": false,
     "input": [
      "# Drop the foreign key columns\n",
      "df_Competitions = df_Competitions.drop(['X12','X13','X16','X17','X18','X22','X23'], axis=1)\n",
      "# Drop descriptive (text) columns\n",
      "df_Competitions = df_Competitions.drop(['X1','X2','X3','X4'], axis=1)\n",
      "# Drop unneeded date column\n",
      "df_Competitions = df_Competitions.drop(['X19'], axis=1)\n",
      "\n",
      "# Write to clean folder\n",
      "df_Competitions.to_csv('./data/cleaned/competitions.csv') "
     ],
     "language": "python",
     "metadata": {},
     "outputs": [],
     "prompt_number": 168
    },
    {
     "cell_type": "code",
     "collapsed": false,
     "input": [
      "df_Competitions.Duration_days.hist(bins=140, range=(0,1320), alpha = .5, figsize=(15,4))"
     ],
     "language": "python",
     "metadata": {},
     "outputs": [
      {
       "metadata": {},
       "output_type": "pyout",
       "prompt_number": 169,
       "text": [
        "<matplotlib.axes.AxesSubplot at 0x108fd8910>"
       ]
      },
      {
       "metadata": {},
       "output_type": "display_data",
       "png": "[encoded data removed]",
       "text": [
        "<matplotlib.figure.Figure at 0x108f38c90>"
       ]
      }
     ],
     "prompt_number": 169
    },
    {
     "cell_type": "code",
     "collapsed": false,
     "input": [
      "df_Competitions.Postprocess_days.hist(bins=40, range=(0,.1), alpha = .5, figsize=(15,4))"
     ],
     "language": "python",
     "metadata": {},
     "outputs": [
      {
       "metadata": {},
       "output_type": "pyout",
       "prompt_number": 180,
       "text": [
        "<matplotlib.axes.AxesSubplot at 0x10bd3cb10>"
       ]
      },
      {
       "metadata": {},
       "output_type": "display_data",
       "png": "[encoded data removed]",
       "text": [
        "<matplotlib.figure.Figure at 0x10b6cfd10>"
       ]
      }
     ],
     "prompt_number": 180
    },
    {
     "cell_type": "code",
     "collapsed": false,
     "input": [
      "df_Competitions.Staging_days.hist(bins=140, range=(0,150), alpha = .5, figsize=(15,4))"
     ],
     "language": "python",
     "metadata": {},
     "outputs": [
      {
       "metadata": {},
       "output_type": "pyout",
       "prompt_number": 189,
       "text": [
        "<matplotlib.axes.AxesSubplot at 0x10e47cf10>"
       ]
      },
      {
       "metadata": {},
       "output_type": "display_data",
       "png": "[encoded data removed]",
       "text": [
        "<matplotlib.figure.Figure at 0x10cff3750>"
       ]
      }
     ],
     "prompt_number": 189
    },
    {
     "cell_type": "code",
     "collapsed": false,
     "input": [
      "df_Competitions.PrepInstructor_days.hist(bins=140, range=(0,150), alpha = .5, figsize=(15,4))"
     ],
     "language": "python",
     "metadata": {},
     "outputs": [
      {
       "metadata": {},
       "output_type": "pyout",
       "prompt_number": 191,
       "text": [
        "<matplotlib.axes.AxesSubplot at 0x10eb89d50>"
       ]
      },
      {
       "metadata": {},
       "output_type": "display_data",
       "png": "[encoded data removed]",
       "text": [
        "<matplotlib.figure.Figure at 0x10eb40810>"
       ]
      }
     ],
     "prompt_number": 191
    },
    {
     "cell_type": "code",
     "collapsed": false,
     "input": [],
     "language": "python",
     "metadata": {},
     "outputs": []
    }
   ],
   "metadata": {}
  }
 ]
}