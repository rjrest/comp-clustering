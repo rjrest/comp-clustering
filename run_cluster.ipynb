{
 "metadata": {
  "name": ""
 },
 "nbformat": 3,
 "nbformat_minor": 0,
 "worksheets": [
  {
   "cells": [
    {
     "cell_type": "code",
     "collapsed": false,
     "input": [
      "# Author: RJ Ramey <rj.github@garimeme.com>\n",
      "# License: (c) 2014 by RJ Ramey. All rights reserved. \n",
      "# No license is given at this time.\n",
      "#\n",
      "# Does: * Chooses rows to fillna or drop\n",
      "#       * Normalizes each feature\n",
      "#       * output: histograms of features before/after normalization\n",
      "#       * output: 2x2 scatterplot of clusters on various M axes\n",
      "#       * iterates on value of k in K-Means to maximize Silhouette score\n",
      "#       * output: df_clusters\n",
      "\n",
      "# Initialization\n",
      "from matplotlib import pyplot as plt\n",
      "from sklearn import metrics\n",
      "from sklearn.cluster import KMeans\n",
      "from sklearn.metrics import pairwise_distances\n",
      "from sklearn import preprocessing\n",
      "import pandas as pd\n",
      "import numpy as np\n",
      "import math\n",
      "\n",
      "allow_geolocation = False\n",
      "feature_visualizer = False\n",
      "\n",
      "# K-Means clustering\n",
      "def run_kmeans(km, data, colnames, plotx=0, ploty=1):\n",
      "    \"\"\" This fits and plots the outcome of a K-means instance as passed in km \"\"\"\n",
      "    km.fit(data)\n",
      "    centroids = km.cluster_centers_\n",
      "    # print \"centroids:\", centroids\n",
      "    labels = km.labels_\n",
      "    print \"Silhouette score: \"\n",
      "    print metrics.silhouette_score(data, labels, metric='euclidean')\n",
      "    print\n",
      "    \n",
      "    y = km.predict(data)\n",
      "    \n",
      "    fig, ax = plt.subplots(1,1, figsize=(8,8))\n",
      "    c_legend = {'c':'cyan','r':'red','0.7':'grey','y':'yellow'}\n",
      "    # t below must match the number of clusters in km\n",
      "    if km.n_clusters == 4:\n",
      "        for t,marker,c in zip(xrange(4),\"oosD\",np.array(['c','r','0.7','y'])) :\n",
      "            ax.scatter(data[y == t,plotx],\n",
      "                       data[y == t,ploty],\n",
      "                       marker=marker,\n",
      "                       c=c)\n",
      "            print \"Class %d is {}\".format(c_legend.get(str(c))) % t\n",
      "    elif km.n_clusters == 3:\n",
      "        for t,marker,c in zip(xrange(3),\"oos\",np.array(['c','r','0.7'])) :\n",
      "            ax.scatter(data[y == t,plotx],\n",
      "                       data[y == t,ploty],\n",
      "                       marker=marker,\n",
      "                       c=c)\n",
      "            print \"Class %d is {}\".format(c_legend.get(str(c))) % t\n",
      "    elif km.n_clusters == 2:\n",
      "        for t,marker,c in zip(xrange(2),\"os\",np.array(['c','r'])) :\n",
      "            ax.scatter(data[y == t,plotx],\n",
      "                       data[y == t,ploty],\n",
      "                       marker=marker,\n",
      "                       c=c)\n",
      "            print \"Class %d is {}\".format(c_legend.get(str(c))) % t\n",
      "    \n",
      "    print \"Centroids plotted as blue x\"\n",
      "    ax.scatter(centroids[:,plotx], centroids[:,ploty], marker='x', c='b')\n",
      "    \n",
      "    #ax.spines['right'].set_color('none')\n",
      "    #ax.spines['top'].set_color('none')\n",
      "    ax.xaxis.set_ticks_position('bottom')\n",
      "    ax.spines['top'].set_position(('data',0))\n",
      "    ax.spines['top'].set_color('0.8')\n",
      "    ax.yaxis.set_ticks_position('left')\n",
      "    ax.spines['right'].set_position(('data',0))\n",
      "    ax.spines['right'].set_color('0.8')\n",
      "    ax.set_xlabel(M_legend.get(str(colnames[plotx])), fontsize=10)\n",
      "    ax.set_ylabel(M_legend.get(str(colnames[ploty])), fontsize=10)\n",
      "    plt.legend(loc='best')\n",
      "    return y, centroids\n",
      "\n",
      "# Helper function to make histograms\n",
      "def histograms(df, suffix, fignum, fields, binns):\n",
      "    \"\"\" Plots up to 8 columns, using the methods 'raw', 'log10' or 'log' and with number of bins as passed\"\"\"\n",
      "    fig = plt.figure(num=fignum, figsize=(18,18))\n",
      "    fig.suptitle('Histograms of ' + str(suffix) + ' features', fontsize=22)\n",
      "    ax1 = fig.add_subplot(421, axisbg='0.94')\n",
      "    ax2 = fig.add_subplot(422, axisbg='0.94')\n",
      "    ax3 = fig.add_subplot(423, axisbg='0.94')\n",
      "    ax4 = fig.add_subplot(424, axisbg='0.94')\n",
      "    ax5 = fig.add_subplot(425, axisbg='0.94')\n",
      "    ax6 = fig.add_subplot(426, axisbg='0.94')\n",
      "    ax7 = fig.add_subplot(427, axisbg='0.94')\n",
      "    ax8 = fig.add_subplot(428, axisbg='0.94')\n",
      "    alphas = [0.33, 0.33, 0.6, 0.6, 0.28, 0.28, 0.6, 0.6]\n",
      "    hues = ['g','b','b','g','g','b','b','g']\n",
      "    all_axes = plt.gcf().axes\n",
      "    for i, ax in list(enumerate(all_axes)):\n",
      "        ax.set_ylabel(\"count\", fontsize=10)\n",
      "        for ticklabel in ax.get_xticklabels() + ax.get_yticklabels():\n",
      "            ticklabel.set_fontsize(14)\n",
      "        if (len(fields) - 1) >= i:\n",
      "            if suffix == \"raw\":\n",
      "                transformed = df[fields[i]].dropna().values\n",
      "            elif suffix == \"log10\":\n",
      "                transformed = np.log10(df[fields[i]].dropna().values)\n",
      "            elif suffix == \"log\":\n",
      "                transformed = np.log(df[fields[i]].dropna().values)\n",
      "            \n",
      "            try:\n",
      "                #range_of_1_std = df[fields[i]].std() + df[fields[i]].mean()\n",
      "                ax.hist(transformed, bins=binns[i], color=hues[i],alpha=alphas[i])\n",
      "                ax.set_title(df[fields[i]].name, fontsize=20)\n",
      "            except:\n",
      "                print \"WARNING: An error occurred in composing {} Figure %d\".format(str(suffix)) % fignum\n",
      "                return\n",
      "                       \n",
      "    try:  # Save the figure as one file\n",
      "        filename = \"data/vis/histogram\" + \"_\" + str(fignum) + \"_\" + str(suffix) + \".png\"\n",
      "        plt.savefig(filename)\n",
      "        print \"=  Vis Output: \", filename\n",
      "    except IOError:\n",
      "        print \"WARNING: Failed to write out file: \", filename\n",
      "        print\n",
      "    plt.close(fig)\n",
      "\n",
      "def compare_histograms(df, df_norm, fignum, fields, binns):\n",
      "    \"\"\" Plots up to 4 columns as before and after normalization, using the number of bins as passed\"\"\"\n",
      "    fig = plt.figure(num=fignum, figsize=(18,18))\n",
      "    fig.suptitle('Histogram before and after normalization', fontsize=22)\n",
      "    ax1 = fig.add_subplot(421, axisbg='0.94')\n",
      "    ax2 = fig.add_subplot(422, axisbg='0.94')\n",
      "    ax3 = fig.add_subplot(423, axisbg='0.94')\n",
      "    ax4 = fig.add_subplot(424, axisbg='0.94')\n",
      "    ax5 = fig.add_subplot(425, axisbg='0.94')\n",
      "    ax6 = fig.add_subplot(426, axisbg='0.94')\n",
      "    ax7 = fig.add_subplot(427, axisbg='0.94')\n",
      "    ax8 = fig.add_subplot(428, axisbg='0.94')\n",
      "    alphas = [0.33, 0.33, 0.6, 0.6, 0.28, 0.28, 0.6, 0.6]\n",
      "    hues = ['g','y','g','y','g','y','g','y']\n",
      "    all_axes = plt.gcf().axes\n",
      "    # print list(enumerate(fields))\n",
      "    for i, ax in list(enumerate(all_axes)):\n",
      "        ax.set_ylabel(\"count\", fontsize=10)\n",
      "        for ticklabel in ax.get_xticklabels() + ax.get_yticklabels():\n",
      "            ticklabel.set_fontsize(14)\n",
      "        g = np.int(math.ceil(np.float(i)/2))\n",
      "        \n",
      "        if (len(fields)*2-1) >= i:\n",
      "            if i in (0,2,4,6):\n",
      "                ax.hist(df[fields[i-g]].dropna().values, bins=binns[i-g], color=hues[i],alpha=alphas[i])\n",
      "                print \"  plot \" + str(df[fields[i-g]].name)\n",
      "                ax.set_title(df[fields[i-g]].name, fontsize=20)\n",
      "        #if (len(fields)*2) >= i:   \n",
      "            if i in (1,3,5,7):\n",
      "                #try:\n",
      "                ax.hist(df_norm[fields[i-g]].dropna().values, bins=binns[i-g], color=hues[i],alpha=alphas[i])\n",
      "                ax.set_title(\"As normalized:\", fontsize=20)\n",
      "                       \n",
      "    try:  # Save the figure as one file\n",
      "        filename = \"data/vis/histogram_compare\" + \"_\" + str(fignum) + \".png\"\n",
      "        plt.savefig(filename)\n",
      "        print \"=  Vis Output: \", filename\n",
      "        print\n",
      "    except IOError:\n",
      "        print \"WARNING: Failed to write out file: \", filename\n",
      "        print\n",
      "    plt.close(fig)\n",
      "\n",
      "def get_countries(df):\n",
      "    \"\"\" Collects the names of the columns related to M28 (popularity by country)\"\"\"\n",
      "    countries = []  \n",
      "    for M in df.columns.values.tolist():  #make a quick list of M28_countries\n",
      "        if str(M)[0:3] == 'M28':\n",
      "            countries.append(str(M)[4:6])\n",
      "    return countries[1:]  \n",
      "\n",
      "try:  # Load table to df\n",
      "    df = pd.read_csv(\"data/cleaned/Final.csv\", header=0, index_col=0)\n",
      "    print \"Final.csv had %d rows, %d columns\" % (df.shape[0] , df.shape[1])  \n",
      "except IOError:\n",
      "    print \"WARNING: Missing required file /data/cleaned/Final.csv. Run feature_engineer first.\"\n",
      "\n",
      "M28 = df.columns[df.columns.map(lambda x: x[0:3]=='M28')]  # get all M28 columns\n",
      "\n",
      "#if using Geolocated countries\n",
      "if allow_geolocation == True:\n",
      "    if len(df.columns[df.columns.map(lambda x: x[0:3]=='M28')]) > 0:\n",
      "        print \"Dataframe contains these measured countries from IP address:\"\n",
      "        print \"  \", get_countries(df)\n",
      "        print \"Decided to drop smallest countries from features here. New list:\"\n",
      "        df = df.drop(['M28_NL','M28_ES','M28_FR','M28_DE','M28_TW'],axis=1)\n",
      "        print \"  \", get_countries(df)\n",
      "    else:\n",
      "        print \"Data does not contain measured countries, so ignoring argument allow_geolocation.\"\n",
      "else:\n",
      "    df = df.drop(M28,axis=1)\n",
      "    df = df.drop(['M25'],axis=1)\n",
      "\n",
      "print \"Dataframe loaded.\"\n",
      "print \"Working with %d rows, %d columns \\n\" % (df.shape[0] , df.shape[1])\n"
     ],
     "language": "python",
     "metadata": {},
     "outputs": [
      {
       "output_type": "stream",
       "stream": "stdout",
       "text": [
        "Final.csv had 365 rows, 89 columns\n",
        "Dataframe loaded.\n",
        "Working with 365 rows, 75 columns \n",
        "\n"
       ]
      }
     ],
     "prompt_number": 199
    },
    {
     "cell_type": "code",
     "collapsed": false,
     "input": [
      "# Preparation for scikit-learn\n",
      "\n",
      "# Cull of unneeded columns\n",
      "df = df.drop(['M7_3','M7_7','M7_15','M7_30','M8','M17','M43'],axis=1)\n",
      "df = df.drop(['M11_3','M11_7','M11_15','M11_30','M12'],axis=1)\n",
      "df = df.drop(['M18_3','M18_7','M18_15','M18_30','M18_deadline'],axis=1)\n",
      "   # Sidelines rate is less meaningful in first 15 days (people still getting started on it)\n",
      "df = df.drop(['M24_3','M24_7','M24_15'],axis=1)\n",
      "\n",
      "# Make assumptions to constrain Null and errant values\n",
      "bins_str = ''\n",
      "bins = 0\n",
      "\n",
      "# Nulls in X31 (very few) -> Use median value\n",
      "df['X31_IsImputed'] = np.nan\n",
      "df['X31_IsImputed'][pd.isnull(df.X31)==True] = 1\n",
      "df['X31'][pd.isnull(df.X31)==True] = df.X31.median()\n",
      "\n",
      "\n",
      "# Nulls in M15:\n",
      "# Drop from consideration any competition which never had any teams by the time it closed\n",
      "print \"Removing %d comps where no teams ever joined (dead competition) ...\" % len(df[pd.isnull(df.M15) == True])\n",
      "df = df[ pd.isnull(df.M15) == False]\n",
      "\n",
      "# Zeros in M25:\n",
      "M28 = df.columns[df.columns.map(lambda x: x[0:3]=='M28')]  # convenient references\n",
      "# If using geolocated countries, then drop competitions where M25 = 0, (would mean 'participants are from 0 countries')\n",
      "#if allow_geolocation=True:\n",
      "if True:\n",
      "    if len(M28) > 0:\n",
      "        subseries = M28.append(np.array(['M25']))\n",
      "        # TODO: hack: save the one case where M28_countries do exist (query results mismatch)\n",
      "        df.M25[ (df.M25 == 0) & (df.M28_RU > 0) ] = 1\n",
      "        # Drop any competitions where M25 is 0\n",
      "        print \"Removing %d comps where countries were not found (Geolocation failed) ...\" % len(df[df.M25 == 0])\n",
      "        df = df[df.M25 <> 0]\n",
      "        # Fill in rest of null M28_countries as 0\n",
      "        df[subseries] = df[subseries].fillna(value=0)\n",
      "\n",
      "# Nulls in X27: \n",
      "# convert concept of 'unlimited' to 20\n",
      "  # largest ever was 40; with 9 cases ever >20\n",
      "print \"For %d comps with unlimited-sized teams, impute 20 as a practical maximum\" % len(df.X27[pd.isnull(df.X27) == True])\n",
      "df['X27_IsClamped'] = np.nan\n",
      "df['X27_IsClamped'][pd.isnull(df.X27) == True] = 1\n",
      "df.X27[pd.isnull(df.X27) == True] = 20\n",
      "\n",
      "#...\n",
      "\n",
      "# Nulls in M23_deadline\n",
      "    # same weird cases where there are no RulesAccepters from which to assess\n",
      "    # If this is true, give up on this metric for analysis. Drop the column rather than impute any value\n",
      "    # If it is null at _deadline, that means the _3 _7 _15 _30 measurements are also faulty\n",
      "\n",
      "z = len(df.M23_deadline[pd.isnull(df.M23_deadline)])\n",
      "if z > 0:\n",
      "    print \"Found %d null values in M23_, with no good way to impute them:\" % z\n",
      "    print \"   This occurs when there are no records of Rules accepters, sigh.\"\n",
      "    print \"   removing this feature from analysis.\"\n",
      "    df = df.drop(['M23_3','M23_7','M23_15','M23_30','M23_deadline'],axis=1)\n",
      "\n",
      "print \"\\nWorking dataframe has %d rows, %d columns \\n\" % (df.shape[0] , df.shape[1])\n",
      "\n",
      "\n",
      "# Nulls and negatives in M24_3, _7, _15, _30, _deadline:\n",
      "# convenient references\n",
      "M24 = df.columns[df.columns.map(lambda x: x[0:3]=='M24')]   \n",
      "M14 = df.columns[df.columns.map(lambda x: x[0:3]=='M14')] \n",
      "M14 = M14.append(np.array(['M15']))\n",
      "M21 = df.columns[df.columns.map(lambda x: x[0:3]=='M21')] \n",
      "\n",
      "\n",
      "# Impute rows where [M24_30, M24_deadline] < 0 or Null\n",
      "    # weird cases where there are many users on teams, but almost no RulesAccepters\n",
      "    # use Median for similarly Teams-Users sized?\n",
      "df['M24_IsImputed'] = np.nan\n",
      "# non-sensical negatives back to null\n",
      "df.M24_30[df.M24_30 < 0] = np.nan\n",
      "df.M24_deadline[df.M24_deadline < 0] = np.nan\n",
      "subseries = M24.append(M14).append(M21)\n",
      "examine = df[subseries][ (pd.isnull(df.M24_30) == True) | (pd.isnull(df.M24_deadline) == True) | (df.M24_30 <0) | (df.M24_deadline < 0)]\n",
      "# To examine affected rows - uncomment these\n",
      "#examine.sort(['M24_deadline'], ascending=1, axis=0).head(100)\n",
      "\n",
      "# Determine the mean Sidelines ratio for comps in 8 bins, by User size (M15)\n",
      "bins = np.linspace(df.M15.dropna().min()-1, df.M15.dropna().max()+1, 8)\n",
      "groups = df.groupby(pd.cut(df.M15.dropna(), bins))\n",
      "for i in range(0,len(bins)-1):\n",
      "    bins_str = bins_str + \"(\" + str(int(bins[i])) + \"-\" + str(int(bins[i+1])) + \") \"\n",
      "\n",
      "print \"Found %d null values in M24_ :\" % len(examine)\n",
      "print \"   This occurs when there are no records of Rules accepters, sigh.\"\n",
      "print \"   Impute values using mean of similar-sized comps, sized in bins of roughly \" \n",
      "print \"    \" + bins_str\n",
      "for c in examine.index.values:\n",
      "    imputed_30 = groups.mean()[['M24_30']].loc[pd.cut(df.M15[df.index==c], bins)].values\n",
      "    imputed_deadline = groups.mean()[['M24_deadline']].loc[pd.cut(df.M15[df.index==c], bins)].values\n",
      "    df.loc[c,'M24_30'] = imputed_30\n",
      "    df.loc[c,'M24_deadline'] = imputed_deadline\n",
      "    df.loc[c,'M24_IsImputed'] = 1\n",
      "print \"   ::Imputed successfully on %d rows\" % df.M24_IsImputed.sum()\n",
      "# To examine imputed rows - uncomment these\n",
      "#print \"Mean values to use:\"\n",
      "#print groups.mean()[['M24_30','M24_deadline']]\n",
      "#df[['M24_30','M24_deadline','M24_IsImputed']][df.M24_IsImputed == 1]\n",
      "\n",
      "# Final cull of unneeded columns, with M24 resolved\n",
      "df = df.drop(['M14_3','M14_7','M14_15','M14_30'],axis=1)\n",
      "df = df.drop(['M21_3','M21_7','M21_15','M21_30','M21_deadline'],axis=1)\n",
      "print \"\\nWorking dataframe has %d rows, %d columns \\n\" % (df.shape[0] , df.shape[1])\n",
      "final_compids = np.unique(df.index.values)\n",
      "\n",
      "df.to_csv(\"data/cleaned/Working.csv\")\n",
      "\n",
      "\n",
      "# Rough examination of the distribution of existing features\n",
      "# Show it raw, then transformed by log10, then by log_e\n",
      "if feature_visualizer == True:\n",
      "    histograms(df, 'raw', 1, ['DayOfYear','DayOfWeek','M45','M46','M15','M24_30','M24_deadline'], [10,7,12,12,12,12,12,12])\n",
      "    histograms(df, 'raw', 2, ['X14','X15','X25','X26','X27','X31','DurationInt','PrepDays'], [12,12,12,12,12,12,12,12])\n",
      "    histograms(df, 'raw', 3, ['M9_3','M9_7','M9_15','M9_30','M10_3','M10_7','M10_15','M10_30'], [12,12,12,12,12,12,12,12])\n",
      "    histograms(df, 'raw', 4, ['M10_deadline','M13_3','M13_7','M13_15','M13_30','M16_3','M16_7','M16_15'], [12,12,12,12,12,12,12,12])\n",
      "    histograms(df, 'raw', 5, ['M16_30','M44','M19','M22_3','M22_7','M22_15','M22_30','M22_deadline'], [12,12,12,12,12,12,12,12])\n",
      "    \n",
      "    histograms(df, 'log10', 1, ['DayOfYear','DayOfWeek','M45','M46','M15','M24_30','M24_deadline'], [10,7,12,12,12,12,12,12])\n",
      "    histograms(df, 'log10', 2, ['X14','X15','X25','X26','X27','X31','DurationInt','PrepDays'], [12,12,12,12,12,12,12,12])\n",
      "    histograms(df, 'log10', 3, ['M9_3','M9_7','M9_15','M9_30','M10_3','M10_7','M10_15','M10_30'], [12,12,12,12,12,12,12,12])\n",
      "    histograms(df, 'log10', 4, ['M10_deadline','M13_3','M13_7','M13_15','M13_30','M16_3','M16_7','M16_15'], [12,12,12,12,12,12,12,12])\n",
      "    histograms(df, 'log10', 5, ['M16_30','M44','M19','M22_3','M22_7','M22_15','M22_30','M22_deadline'], [12,12,12,12,12,12,12,12])\n",
      "    \n",
      "    histograms(df, 'log', 1, ['DayOfYear','DayOfWeek','M45','M46','M15','M24_30','M24_deadline'], [10,7,12,12,12,12,12,12])\n",
      "    histograms(df, 'log', 2, ['X14','X15','X25','X26','X27','X31','DurationInt','PrepDays'], [12,12,12,12,12,12,12,12])\n",
      "    histograms(df, 'log', 3, ['M9_3','M9_7','M9_15','M9_30','M10_3','M10_7','M10_15','M10_30'], [12,12,12,12,12,12,12,12])\n",
      "    histograms(df, 'log', 4, ['M10_deadline','M13_3','M13_7','M13_15','M13_30','M16_3','M16_7','M16_15'], [12,12,12,12,12,12,12,12])\n",
      "    histograms(df, 'log', 5, ['M16_30','M44','M19','M22_3','M22_7','M22_15','M22_30','M22_deadline'], [12,12,12,12,12,12,12,12])\n",
      "    \n",
      "    if allow_geolocation == True:\n",
      "        histograms(df, 'raw', 6, ['M28_AU','M28_CA','M28_CN','M28_GB','M28_IN','M28_RU','M28_US','M25'], [12,12,12,12,12,12,12,12])\n",
      "        histograms(df, 'log10', 6, ['M28_AU','M28_CA','M28_CN','M28_GB','M28_IN','M28_RU','M28_US','M25'], [12,12,12,12,12,12,12,12])\n",
      "        histograms(df, 'log', 6, ['M28_AU','M28_CA','M28_CN','M28_GB','M28_IN','M28_RU','M28_US','M25'], [12,12,12,12,12,12,12,12])\n",
      "\n"
     ],
     "language": "python",
     "metadata": {},
     "outputs": [
      {
       "output_type": "stream",
       "stream": "stdout",
       "text": [
        "=  Vis Output:  data/vis/histogram_1_raw.png\n",
        "=  Vis Output: "
       ]
      },
      {
       "output_type": "stream",
       "stream": "stdout",
       "text": [
        " data/vis/histogram_2_raw.png\n",
        "=  Vis Output: "
       ]
      },
      {
       "output_type": "stream",
       "stream": "stdout",
       "text": [
        " data/vis/histogram_3_raw.png\n",
        "=  Vis Output: "
       ]
      },
      {
       "output_type": "stream",
       "stream": "stdout",
       "text": [
        " data/vis/histogram_4_raw.png\n",
        "=  Vis Output: "
       ]
      },
      {
       "output_type": "stream",
       "stream": "stdout",
       "text": [
        " data/vis/histogram_5_raw.png\n",
        "=  Vis Output: "
       ]
      },
      {
       "output_type": "stream",
       "stream": "stdout",
       "text": [
        " data/vis/histogram_1_log10.png\n",
        "=  Vis Output: "
       ]
      },
      {
       "output_type": "stream",
       "stream": "stdout",
       "text": [
        " data/vis/histogram_2_log10.png\n",
        "=  Vis Output: "
       ]
      },
      {
       "output_type": "stream",
       "stream": "stdout",
       "text": [
        " data/vis/histogram_3_log10.png\n",
        "=  Vis Output: "
       ]
      },
      {
       "output_type": "stream",
       "stream": "stdout",
       "text": [
        " data/vis/histogram_4_log10.png\n",
        "=  Vis Output: "
       ]
      },
      {
       "output_type": "stream",
       "stream": "stdout",
       "text": [
        " data/vis/histogram_5_log10.png\n",
        "=  Vis Output: "
       ]
      },
      {
       "output_type": "stream",
       "stream": "stdout",
       "text": [
        " data/vis/histogram_1_log.png\n",
        "=  Vis Output: "
       ]
      },
      {
       "output_type": "stream",
       "stream": "stdout",
       "text": [
        " data/vis/histogram_2_log.png\n",
        "=  Vis Output: "
       ]
      },
      {
       "output_type": "stream",
       "stream": "stdout",
       "text": [
        " data/vis/histogram_3_log.png\n",
        "=  Vis Output: "
       ]
      },
      {
       "output_type": "stream",
       "stream": "stdout",
       "text": [
        " data/vis/histogram_4_log.png\n",
        "=  Vis Output: "
       ]
      },
      {
       "output_type": "stream",
       "stream": "stdout",
       "text": [
        " data/vis/histogram_5_log.png\n"
       ]
      }
     ],
     "prompt_number": 3
    },
    {
     "cell_type": "code",
     "collapsed": false,
     "input": [
      "# To Normalize\n",
      "#   Make new copy\n",
      "df_norm = df.copy()\n",
      "# For this algorithm, remove boolean columns: K-means needs distances\n",
      "df_norm = df_norm.drop(['M22_IsClamped','M23_IsClamped','M24_IsImputed','X27_IsClamped','X31_IsImputed'],axis=1)\n",
      "\n",
      "if allow_geolocation == True:\n",
      "    df_norm = df_norm.drop(['M28_IsClamped'],axis=1)\n",
      "    M28 = df_norm.columns[df_norm.columns.map(lambda x: x[0:3]=='M28')] \n",
      "\n",
      "# convenient references columns names\n",
      "M9 = df_norm.columns[df_norm.columns.map(lambda x: x[0:2]=='M9')] \n",
      "M10 = df_norm.columns[df_norm.columns.map(lambda x: x[0:3]=='M10')] \n",
      "M13 = df_norm.columns[df_norm.columns.map(lambda x: x[0:3]=='M13')] \n",
      "M16 = df_norm.columns[df_norm.columns.map(lambda x: x[0:3]=='M16')] \n",
      "M22 = df_norm.columns[df_norm.columns.map(lambda x: x[0:3]=='M22')] \n",
      "M24 = df_norm.columns[df_norm.columns.map(lambda x: x[0:3]=='M24')]  \n",
      "\n",
      "def antilog(x):\n",
      "    return 10 ** x\n",
      "\n",
      "def preview_log_scaled(column):\n",
      "    #log10, then scale at mean 0, std 1\n",
      "    X_scaled = preprocessing.scale(np.log10(column.values))\n",
      "    print \"mean: \", X_scaled.mean(axis=0)\n",
      "    print \"std: \", X_scaled.std(axis=0)\n",
      "    print \"min: \", X_scaled.min(axis=0)\n",
      "    print \"max: \", X_scaled.max(axis=0)\n",
      "    print\n",
      "    return\n",
      "\n",
      "print \"Normalizing each feature in a new dataframe: df_norm\"\n",
      "#DurationInt\n",
      "df_norm.DurationInt = preprocessing.scale(np.log10(df_norm.DurationInt.values))\n",
      "\n",
      "#PrepDays\n",
      "df_norm.PrepDays = preprocessing.scale(np.log10(df_norm.PrepDays.values + 1))\n",
      "#df_norm.PrepDays = preprocessing.scale(np.sqrt(df_norm.PrepDays.values))\n",
      "\n",
      "#DayOfYear #DayOfWeek\n",
      "df_norm.DayOfYear = preprocessing.scale(df_norm.DayOfYear.values.astype(np.float))\n",
      "df_norm.DayOfWeek = preprocessing.scale(df_norm.DayOfWeek.astype(np.float))\n",
      "\n",
      "#X14 #X15 #X25 #X26 #X27 #X31\n",
      "df_norm.X14 = preprocessing.scale(np.log10(df_norm.X14.values + 1))\n",
      "df_norm.X15 = preprocessing.scale(np.log10(df_norm.X15.values))\n",
      "df_norm.X25 = preprocessing.scale(np.log10(df_norm.X25.values))\n",
      "df_norm.X26 = preprocessing.scale(np.log10(df_norm.X26.values))\n",
      "df_norm.X27 = preprocessing.scale(antilog(df_norm.X27.values))\n",
      "df_norm.X31 = preprocessing.scale(np.log10(df_norm.X31.values))\n",
      "\n",
      "# Percentage features: these are 0.0000 to 1.0000 \n",
      "# Generally use np.log10( X*100 + 1)  #TODO: better method?\n",
      "# M9_3\tM9_7\tM9_15\tM9_30\n",
      "# M13_3\tM13_7\tM13_15\tM13_30\t\n",
      "# M16_3\tM16_7\tM16_15\tM16_30\t\n",
      "# M19\n",
      "# M22_3\tM22_7\tM22_15\tM22_30\tM22_deadline\n",
      "# M24_30\tM24_deadline\n",
      "# M28_AU\tM28_CA\tM28_CN\tM28_GB\tM28_IN\tM28_RU\tM28_US\t\n",
      "if allow_geolocation == True:\n",
      "    pct_features = M28.append(M9).append(M13).append(M16).append(M22).append(M24).append(np.array(['M19']))\n",
      "else:\n",
      "    pct_features = M9.append(M13).append(M16).append(M22).append(M24).append(np.array(['M19']))\n",
      "for feat in pct_features:\n",
      "    df_norm[feat] = preprocessing.scale(np.log10(df_norm[feat].values*100 + 1))\n",
      "# M44 - exception for this which has negative skew\n",
      "df_norm.M44 = preprocessing.scale(antilog(df_norm.M44.values))\n",
      "\n",
      "# Counted features:\n",
      "# M10_3\tM10_7\tM10_15\tM10_30\tM10_deadline\n",
      "df_norm[M10] = preprocessing.scale(np.log10(df_norm[M10].values + 1))\n",
      "# M15\n",
      "df_norm.M15 = preprocessing.scale(np.log10(df_norm.M15.values))\n",
      "# M45\n",
      "df_norm.M45 = preprocessing.scale(np.log10(df_norm.M45.values))\n",
      "# M46\n",
      "df_norm.M46 = preprocessing.scale(np.log10(df_norm.M46.values + 1))\n",
      "# M25\n",
      "if allow_geolocation == True:\n",
      "    df_norm.M25 = preprocessing.scale(np.log10(df_norm.M25.values))\n",
      "\n",
      "# Write out to csv\n",
      "df_norm.to_csv(\"data/cleaned/Working_normalized.csv\")\n",
      "\n",
      "# See results or normalization (before and after) in histograms\n",
      "if feature_visualizer == True:\n",
      "    print \"Creating histograms before and after normalization: \"\n",
      "    compare_histograms(df, df_norm, 21, ['DurationInt','PrepDays','DayOfYear','DayOfWeek'], [10,10,7,7])\n",
      "    compare_histograms(df, df_norm, 22, ['X14','X15','X25','X27'], [10,10,10,10])\n",
      "    compare_histograms(df, df_norm, 23, ['X31','M19','M45','M46'], [10,10,10,10])\n",
      "    compare_histograms(df, df_norm, 24, M9, [10,10,10,10])\n",
      "    compare_histograms(df, df_norm, 25, M13, [10,10,10,10])\n",
      "    compare_histograms(df, df_norm, 26, M16, [10,10,10,10])\n",
      "    compare_histograms(df, df_norm, 27, M22[0:4], [10,10,10,10])\n",
      "    compare_histograms(df, df_norm, 28, M22[4:].append(np.array(['M15','M44'])), [10,10,10,10])\n",
      "    compare_histograms(df, df_norm, 29, M24.append(M10[0:2]), [10,10,10,10])\n",
      "    compare_histograms(df, df_norm, 30, M10[2:], [10,10,10,10])\n",
      "    if allow_geolocation == True:\n",
      "        compare_histograms(df, df_norm, 31, M28[0:4], [10,10,10,10])\n",
      "        compare_histograms(df, df_norm, 32, M28[4:7], [10,10,10,10])\n",
      "        compare_histograms(df, df_norm, 33, ['M25'], [10,10,10,10])\n"
     ],
     "language": "python",
     "metadata": {},
     "outputs": [
      {
       "output_type": "stream",
       "stream": "stdout",
       "text": [
        "Creating histograms before and after normalization: \n",
        "  plot DurationInt"
       ]
      },
      {
       "output_type": "stream",
       "stream": "stdout",
       "text": [
        "\n",
        "  plot PrepDays"
       ]
      },
      {
       "output_type": "stream",
       "stream": "stdout",
       "text": [
        "\n",
        "  plot DayOfYear"
       ]
      },
      {
       "output_type": "stream",
       "stream": "stdout",
       "text": [
        "\n",
        "  plot DayOfWeek"
       ]
      },
      {
       "output_type": "stream",
       "stream": "stdout",
       "text": [
        "\n",
        "=  Vis Output: "
       ]
      },
      {
       "output_type": "stream",
       "stream": "stdout",
       "text": [
        " data/vis/histogram_compare_21.png\n",
        "  plot X14"
       ]
      },
      {
       "output_type": "stream",
       "stream": "stdout",
       "text": [
        "\n",
        "  plot X15"
       ]
      },
      {
       "output_type": "stream",
       "stream": "stdout",
       "text": [
        "\n",
        "  plot X25"
       ]
      },
      {
       "output_type": "stream",
       "stream": "stdout",
       "text": [
        "\n",
        "  plot X27"
       ]
      },
      {
       "output_type": "stream",
       "stream": "stdout",
       "text": [
        "\n",
        "=  Vis Output: "
       ]
      },
      {
       "output_type": "stream",
       "stream": "stdout",
       "text": [
        " data/vis/histogram_compare_22.png\n",
        "  plot X31"
       ]
      },
      {
       "output_type": "stream",
       "stream": "stdout",
       "text": [
        "\n",
        "  plot M19"
       ]
      },
      {
       "output_type": "stream",
       "stream": "stdout",
       "text": [
        "\n",
        "  plot M45"
       ]
      },
      {
       "output_type": "stream",
       "stream": "stdout",
       "text": [
        "\n",
        "  plot M46"
       ]
      },
      {
       "output_type": "stream",
       "stream": "stdout",
       "text": [
        "\n",
        "=  Vis Output: "
       ]
      },
      {
       "output_type": "stream",
       "stream": "stdout",
       "text": [
        " data/vis/histogram_compare_23.png\n",
        "  plot M9_3"
       ]
      },
      {
       "output_type": "stream",
       "stream": "stdout",
       "text": [
        "\n",
        "  plot M9_7"
       ]
      },
      {
       "output_type": "stream",
       "stream": "stdout",
       "text": [
        "\n",
        "  plot M9_15"
       ]
      },
      {
       "output_type": "stream",
       "stream": "stdout",
       "text": [
        "\n",
        "  plot M9_30"
       ]
      },
      {
       "output_type": "stream",
       "stream": "stdout",
       "text": [
        "\n",
        "=  Vis Output: "
       ]
      },
      {
       "output_type": "stream",
       "stream": "stdout",
       "text": [
        " data/vis/histogram_compare_24.png\n",
        "  plot M13_3"
       ]
      },
      {
       "output_type": "stream",
       "stream": "stdout",
       "text": [
        "\n",
        "  plot M13_7"
       ]
      },
      {
       "output_type": "stream",
       "stream": "stdout",
       "text": [
        "\n",
        "  plot M13_15"
       ]
      },
      {
       "output_type": "stream",
       "stream": "stdout",
       "text": [
        "\n",
        "  plot M13_30"
       ]
      },
      {
       "output_type": "stream",
       "stream": "stdout",
       "text": [
        "\n",
        "=  Vis Output: "
       ]
      },
      {
       "output_type": "stream",
       "stream": "stdout",
       "text": [
        " data/vis/histogram_compare_25.png\n",
        "  plot M16_3"
       ]
      },
      {
       "output_type": "stream",
       "stream": "stdout",
       "text": [
        "\n",
        "  plot M16_7"
       ]
      },
      {
       "output_type": "stream",
       "stream": "stdout",
       "text": [
        "\n",
        "  plot M16_15"
       ]
      },
      {
       "output_type": "stream",
       "stream": "stdout",
       "text": [
        "\n",
        "  plot M16_30"
       ]
      },
      {
       "output_type": "stream",
       "stream": "stdout",
       "text": [
        "\n",
        "=  Vis Output: "
       ]
      },
      {
       "output_type": "stream",
       "stream": "stdout",
       "text": [
        " data/vis/histogram_compare_26.png\n",
        "  plot M22_3"
       ]
      },
      {
       "output_type": "stream",
       "stream": "stdout",
       "text": [
        "\n",
        "  plot M22_7"
       ]
      },
      {
       "output_type": "stream",
       "stream": "stdout",
       "text": [
        "\n",
        "  plot M22_15"
       ]
      },
      {
       "output_type": "stream",
       "stream": "stdout",
       "text": [
        "\n",
        "  plot M22_30"
       ]
      },
      {
       "output_type": "stream",
       "stream": "stdout",
       "text": [
        "\n",
        "=  Vis Output: "
       ]
      },
      {
       "output_type": "stream",
       "stream": "stdout",
       "text": [
        " data/vis/histogram_compare_27.png\n",
        "  plot M22_deadline"
       ]
      },
      {
       "output_type": "stream",
       "stream": "stdout",
       "text": [
        "\n",
        "  plot M15"
       ]
      },
      {
       "output_type": "stream",
       "stream": "stdout",
       "text": [
        "\n",
        "  plot M44"
       ]
      },
      {
       "output_type": "stream",
       "stream": "stdout",
       "text": [
        "\n",
        "=  Vis Output: "
       ]
      },
      {
       "output_type": "stream",
       "stream": "stdout",
       "text": [
        " data/vis/histogram_compare_28.png\n",
        "  plot M24_30"
       ]
      },
      {
       "output_type": "stream",
       "stream": "stdout",
       "text": [
        "\n",
        "  plot M24_deadline"
       ]
      },
      {
       "output_type": "stream",
       "stream": "stdout",
       "text": [
        "\n",
        "  plot M10_3"
       ]
      },
      {
       "output_type": "stream",
       "stream": "stdout",
       "text": [
        "\n",
        "  plot M10_7"
       ]
      },
      {
       "output_type": "stream",
       "stream": "stdout",
       "text": [
        "\n",
        "=  Vis Output: "
       ]
      },
      {
       "output_type": "stream",
       "stream": "stdout",
       "text": [
        " data/vis/histogram_compare_29.png\n",
        "  plot M10_15"
       ]
      },
      {
       "output_type": "stream",
       "stream": "stdout",
       "text": [
        "\n",
        "  plot M10_30"
       ]
      },
      {
       "output_type": "stream",
       "stream": "stdout",
       "text": [
        "\n",
        "  plot M10_deadline"
       ]
      },
      {
       "output_type": "stream",
       "stream": "stdout",
       "text": [
        "\n",
        "=  Vis Output: "
       ]
      },
      {
       "output_type": "stream",
       "stream": "stdout",
       "text": [
        " data/vis/histogram_compare_30.png\n"
       ]
      }
     ],
     "prompt_number": 11
    },
    {
     "cell_type": "code",
     "collapsed": false,
     "input": [
      "M_legend = {\n",
      "            'X14': 'Reward pool $',\n",
      "            'X27': 'Max Team Size',\n",
      "            'X31': 'Num of Solution Rows',\n",
      "            'M13_3': 'Prop of all subms received by day3',\n",
      "            'M13_7': 'Prop of all subms received by day7',\n",
      "            'M13_15': 'Prop of all subms received by day15',\n",
      "            'M13_30': 'Prop of all subms received by day30',\n",
      "            'DurationInt': 'Duration days',\n",
      "            'M24_30': 'Sidelines rate at day30',\n",
      "            'M24_deadline': 'Sidelines rate at deadline',\n",
      "            'M28_AU': 'Prop of all users in Australia',\n",
      "            'M28_CA': 'Prop of all users in Canada',\n",
      "            'M28_CN': 'Prop of all users in China',\n",
      "            'M28_DE': 'Prop of all users in Germany',\n",
      "            'M28_ES': 'Prop of all users in Spain',\n",
      "            'M28_FR': 'Prop of all users in France',\n",
      "            'M28_GB': 'Prop of all users in UK',\n",
      "            'M28_IN': 'Prop of all users in India',\n",
      "            'M28_NL': 'Prop of all users in Netherl',\n",
      "            'M28_RU': 'Prop of all users in Russia',\n",
      "            'M28_TW': 'Prop of all users in Taiwan',\n",
      "            'M28_US': 'Prop of all users in USA',\n",
      "            'M23_n': 'Ratio of rules accepters to all possible by day n',\n",
      "            'M14_n': 'Particip on teams by day n',\n",
      "            'M8': 'Count of forum msgs by deadline',\n",
      "            'DayOfWeek': 'Weekday (1 Mon - 7 Sun)',\n",
      "            'M16_3': 'Prop of users-teams by day3',\n",
      "            'M16_7': 'Prop of users-teams by day7',\n",
      "            'M16_15': 'Prop of users-teams by day15',\n",
      "            'M16_30': 'Prop of users-teams by day30',\n",
      "            'M9_3': 'Prop of all forum msg by day3',\n",
      "            'M9_7': 'Prop of all forum msg by day7',\n",
      "            'M9_15': 'Prop of all forum msg by day15',\n",
      "            'M9_30': 'Prop of all forum msg by day30',\n",
      "            'M10_7': 'Avg words of forum msg at day7',\n",
      "            'M10_30': 'Avg words of forum msg at day30 (14d trailing)',\n",
      "            'M10_deadline': 'Avg words of forum msg at deadline',\n",
      "            'M21_n': 'Count rules accepters by day n',\n",
      "            'M25': 'Num countries represented',\n",
      "            'M18_n': 'Count of teams by day n',\n",
      "            'M11_n': 'Count of valid subms by day n',\n",
      "            'M43': 'Particip with bio at deadline',\n",
      "            'M46': 'Forum msgs/particip/day',\n",
      "            'M44': 'Prop of anonymous users',\n",
      "            'M45': 'Avg subms/particip/day/maxlimit',\n",
      "            'DayOfYear': 'Calendar day (1-366)',\n",
      "            'M7_n': 'Count of forum msgs by day n',\n",
      "            'M12': 'Count of valid subms by deadline',\n",
      "            'M15': 'Count of particip by deadline',\n",
      "            'M17': 'Count of multiplayer teams by deadline',\n",
      "            'M19': 'Prop of multiplayer teams',\n",
      "            'M22_3': 'Particip rel to all possib users by day3',\n",
      "            'M22_7': 'Particip rel to all possib users by day7',\n",
      "            'M22_15': 'Particip rel to all possib users by day15',\n",
      "            'M22_30': 'Particip rel to all possib users by day30',\n",
      "            'M22_deadline': 'Particip rel to all possib users at deadline'\n",
      "            }\n"
     ],
     "language": "python",
     "metadata": {},
     "outputs": [],
     "prompt_number": 172
    },
    {
     "cell_type": "code",
     "collapsed": false,
     "input": [],
     "language": "python",
     "metadata": {},
     "outputs": [],
     "prompt_number": 100
    },
    {
     "cell_type": "code",
     "collapsed": false,
     "input": [
      "%pylab inline\n",
      "\n",
      "# Drop any other features now: not wanted, or not cleanly distributed\n",
      "df_norm = df_norm.drop(['X15','X25','X26','DayOfWeek','DayOfYear','PrepDays','M10_3','M10_15'],axis=1)\n",
      "# dont drop these yet:\n",
      "#df_norm = df_norm.drop(['M9_15','M9_7','M13_7','M13_15','M16_7','M16_15','M22_3','M22_7','M22_30'],axis=1)\n",
      "\n",
      "\n",
      "# Use the normalized dataframe; Id is already dropped b/c it is the Index\n",
      "data = df_norm.values\n",
      "colnames = df_norm.columns\n",
      "list(enumerate(df_norm.columns))"
     ],
     "language": "python",
     "metadata": {},
     "outputs": [
      {
       "metadata": {},
       "output_type": "pyout",
       "prompt_number": 187,
       "text": [
        "[(0, 'X14'),\n",
        " (1, 'X27'),\n",
        " (2, 'X31'),\n",
        " (3, 'DurationInt'),\n",
        " (4, 'M9_3'),\n",
        " (5, 'M9_7'),\n",
        " (6, 'M9_15'),\n",
        " (7, 'M9_30'),\n",
        " (8, 'M10_7'),\n",
        " (9, 'M10_30'),\n",
        " (10, 'M10_deadline'),\n",
        " (11, 'M13_3'),\n",
        " (12, 'M13_7'),\n",
        " (13, 'M13_15'),\n",
        " (14, 'M13_30'),\n",
        " (15, 'M15'),\n",
        " (16, 'M16_3'),\n",
        " (17, 'M16_7'),\n",
        " (18, 'M16_15'),\n",
        " (19, 'M16_30'),\n",
        " (20, 'M44'),\n",
        " (21, 'M45'),\n",
        " (22, 'M46'),\n",
        " (23, 'M19'),\n",
        " (24, 'M22_3'),\n",
        " (25, 'M22_7'),\n",
        " (26, 'M22_15'),\n",
        " (27, 'M22_30'),\n",
        " (28, 'M22_deadline'),\n",
        " (29, 'M24_30'),\n",
        " (30, 'M24_deadline')]"
       ]
      }
     ],
     "prompt_number": 187
    },
    {
     "cell_type": "code",
     "collapsed": false,
     "input": [
      "km = KMeans(n_clusters=4, init='k-means++', n_init=25, max_iter=350, random_state=3)\n",
      "#km = KMeans(n_clusters=4, init='random', n_init=1, max_iter=1, random_state=1)\n",
      "\n",
      "# Two best columns are M22 + M24\n",
      "y, centroids = run_kmeans(km, data, colnames, 28, 30)\n",
      "\n",
      "print \"Recorded to %d rows in dataframe: df_clusters\" % len(y)\n",
      "df_comps_labels = pd.read_csv(\"data/raw/comps_labels.csv\", header=0, usecols=[0,1,2,4,5,6], index_col=0)\n",
      "df_clusters = df['DurationInt'].to_frame()\n",
      "df_clusters['GuessedClass'] = y\n",
      "df_clusters = pd.merge(df_clusters, df_comps_labels, left_index=True, right_index=True, copy=False)\n"
     ],
     "language": "python",
     "metadata": {},
     "outputs": [
      {
       "output_type": "stream",
       "stream": "stdout",
       "text": [
        "Silhouette score: \n",
        "0.217843344446"
       ]
      },
      {
       "output_type": "stream",
       "stream": "stdout",
       "text": [
        "\n",
        "\n",
        "Class 0 is cyan"
       ]
      },
      {
       "output_type": "stream",
       "stream": "stdout",
       "text": [
        "\n",
        "Class 1 is red\n",
        "Class 2 is grey\n",
        "Class 3 is yellow\n",
        "Centroids plotted as blue x\n",
        "Recorded to 361 rows in dataframe: df_clusters\n"
       ]
      },
      {
       "metadata": {},
       "output_type": "display_data",
       "png": "[encoded data removed]",
       "text": [
        "<matplotlib.figure.Figure at 0x1074f02d0>"
       ]
      }
     ],
     "prompt_number": 203
    },
    {
     "cell_type": "code",
     "collapsed": false,
     "input": [
      "# calculate the Silhouette score for different values of k\n",
      "silhouettes_array = np.empty(2,dtype=float)\n",
      "for k in xrange(2,14):\n",
      "    km = KMeans(n_clusters=k, init='k-means++', n_init=25, max_iter=350, random_state=33)\n",
      "    km.fit(data)\n",
      "    labels = km.labels_\n",
      "    print k, metrics.silhouette_score(data, labels, metric='euclidean')\n",
      "    silhouettes_array = np.vstack([silhouettes_array, (k, metrics.silhouette_score(data, labels, metric='euclidean')) ])\n",
      "\n",
      "# Plot k-value vs Score\n",
      "plt.plot(silhouettes_array[1:,0], silhouettes_array[1:,1], label='Silhouette Score') \n",
      "# formatting settings:\n",
      "plt.xlim([2.0, 14.0])\n",
      "plt.ylim([-0.1, .5])\n",
      "plt.xlabel('value of k')\n",
      "plt.ylabel('Silhouette Score')\n",
      "plt.title('value of k  -vs-  Silhouette')\n",
      "plt.legend(loc=\"best\")"
     ],
     "language": "python",
     "metadata": {},
     "outputs": [
      {
       "output_type": "stream",
       "stream": "stdout",
       "text": [
        "2 "
       ]
      },
      {
       "output_type": "stream",
       "stream": "stdout",
       "text": [
        "0.210765324995\n",
        "3"
       ]
      },
      {
       "output_type": "stream",
       "stream": "stdout",
       "text": [
        " 0.205429182276\n",
        "4"
       ]
      },
      {
       "output_type": "stream",
       "stream": "stdout",
       "text": [
        " 0.217689050157\n",
        "5"
       ]
      },
      {
       "output_type": "stream",
       "stream": "stdout",
       "text": [
        " 0.205827025591\n",
        "6"
       ]
      },
      {
       "output_type": "stream",
       "stream": "stdout",
       "text": [
        " 0.208985684976\n",
        "7"
       ]
      },
      {
       "output_type": "stream",
       "stream": "stdout",
       "text": [
        " 0.211240027433\n",
        "8"
       ]
      },
      {
       "output_type": "stream",
       "stream": "stdout",
       "text": [
        " 0.169959539105\n",
        "9"
       ]
      },
      {
       "output_type": "stream",
       "stream": "stdout",
       "text": [
        " 0.168759206066\n",
        "10"
       ]
      },
      {
       "output_type": "stream",
       "stream": "stdout",
       "text": [
        " 0.185060934524\n",
        "11"
       ]
      },
      {
       "output_type": "stream",
       "stream": "stdout",
       "text": [
        " 0.164895656534\n",
        "12"
       ]
      },
      {
       "output_type": "stream",
       "stream": "stdout",
       "text": [
        " 0.165749927682\n",
        "13"
       ]
      },
      {
       "output_type": "stream",
       "stream": "stdout",
       "text": [
        " 0.188915480905\n"
       ]
      },
      {
       "metadata": {},
       "output_type": "pyout",
       "prompt_number": 180,
       "text": [
        "<matplotlib.legend.Legend at 0x10bf12a10>"
       ]
      },
      {
       "metadata": {},
       "output_type": "display_data",
       "png": "[encoded data removed]",
       "text": [
        "<matplotlib.figure.Figure at 0x10aea3250>"
       ]
      }
     ],
     "prompt_number": 180
    },
    {
     "cell_type": "code",
     "collapsed": false,
     "input": [
      "# Examine In-Class\n",
      "df_clusters[['X2','X12','X17','GuessedClass']][df_clusters.X17 <> 3].sort(['GuessedClass'], ascending=0, axis=0)"
     ],
     "language": "python",
     "metadata": {},
     "outputs": [],
     "prompt_number": 182
    },
    {
     "cell_type": "code",
     "collapsed": false,
     "input": [],
     "language": "python",
     "metadata": {},
     "outputs": []
    }
   ],
   "metadata": {}
  }
 ]
}